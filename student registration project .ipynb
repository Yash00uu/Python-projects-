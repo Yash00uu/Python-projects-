{
 "cells": [
  {
   "cell_type": "code",
   "execution_count": 1,
   "id": "8958c744-5e29-4744-8b1e-f3e87cb49ac1",
   "metadata": {},
   "outputs": [
    {
     "name": "stdout",
     "output_type": "stream",
     "text": [
      "WELCOME in DUCAT\n"
     ]
    }
   ],
   "source": [
    "#solution:\n",
    "import numpy as np\n",
    "from datetime import date\n",
    "class Registration:\n",
    "    studentid=1\n",
    "    def __init__(self):\n",
    "        self.myid=str(date.today()).replace(\"-\",\"\")+str(Registration.studentid)\n",
    "        Registration.studentid+=1\n",
    "        print(\"Your new ID is :\",self.myid)\n",
    "        self.name =input(\"Enter your Name :\")\n",
    "        self.email=self.name+str(self.myid)+\"@gmail.com\"\n",
    "        self.mobile=int(input(\"Enter your Mobile :\"))\n",
    "        self.address=input(\"Enter your Address :\")\n",
    "        self.course_fee()\n",
    "    def course_fee(self):\n",
    "        courselist={\"DA\":30000,\"DS\":35000,\n",
    "                    \"ML\":40000,\"AI\":45000}\n",
    "        coursename=input(\"Enter your Course Name :\")\n",
    "        if coursename in courselist.keys():\n",
    "            self.course=coursename\n",
    "            discount=np.random.randint(1000,5000)\n",
    "            print(\"Wow ,you got \",discount,\" rs off\")\n",
    "            self.fees=courselist[self.course]-discount\n",
    "        else:\n",
    "            self.course=\"DA\"\n",
    "            self.fees=courselist[self.course]    \n",
    "    def display(self):\n",
    "        print(\"your Student Id is :\",self.myid)\n",
    "        print(\"your name :\",self.name)\n",
    "        print(\"your Email :\",self.email)\n",
    "        print(\"your Mobile :\",self.mobile)\n",
    "        print(\"your Address :\",self.address)\n",
    "        print(\"your course and fee :\",self.course,\":\",self.fees)\n",
    "        \n",
    "class Teacher:\n",
    "    def __init__(self):\n",
    "        self.fulldata={}\n",
    "    def myregister(self):\n",
    "        mystudent=Registration()\n",
    "        self.fulldata[mystudent.myid]=mystudent\n",
    "    def mystudents(self):\n",
    "        print(\"my Students :\",self.fulldata.keys())\n",
    "    def teacherdisplay(self):\n",
    "        stuid=input(\"Enter Student ID :\")\n",
    "        if stuid in self.fulldata.keys():\n",
    "            self.fulldata[stuid].display()\n",
    "        else:\n",
    "            print(\"ID not found\")\n",
    "    def menu(self):\n",
    "        c=input(\"1 for New Registration , 2 for StudentIds , 3 for Student Deatils :\")\n",
    "        if c==\"1\":\n",
    "            self.myregister()\n",
    "        elif c==\"2\":\n",
    "            self.mystudents()\n",
    "        elif c==\"3\":\n",
    "            self.teacherdisplay()\n",
    "        else:\n",
    "            print(\"Wrong Menu\")\n",
    "            \n",
    "class Admin:\n",
    "    def __init__(self):\n",
    "        print(\"WELCOME in DUCAT\")\n",
    "        self.mydata={\"Pushpendra\":Teacher(),\n",
    "                     \"Sagar\":Teacher()\n",
    "                    }\n",
    "    def mychoice(self):\n",
    "        choice=int(input(\"Enter 1 for Teacher and 2 for Student :\"))\n",
    "        if choice==1:\n",
    "            teachername=input(\"Enter Your Name :\")\n",
    "            self.mydata[teachername].menu()\n",
    "        elif choice==2:\n",
    "            iamstudentid=input(\"Enter your ID :\")\n",
    "            flag=0\n",
    "            for i in self.mydata.keys():\n",
    "                if iamstudentid in self.mydata[i].fulldata.keys():\n",
    "                    flag=1\n",
    "                    self.mydata[i].fulldata[iamstudentid].display()\n",
    "            if flag==0:\n",
    "                print(\"your ID not Fount\")\n",
    "        else:\n",
    "            print(\"Wrong Choice\")\n",
    "\n",
    "a=Admin()\n",
    "\n",
    "            \n"
   ]
  },
  {
   "cell_type": "code",
   "execution_count": null,
   "id": "40a8b45b-c3f1-45cf-a3c5-fc37c92c599c",
   "metadata": {},
   "outputs": [],
   "source": []
  },
  {
   "cell_type": "code",
   "execution_count": null,
   "id": "5370bbe4-e29d-42a6-9053-2a30b6dbd50a",
   "metadata": {},
   "outputs": [],
   "source": []
  },
  {
   "cell_type": "code",
   "execution_count": null,
   "id": "d0564c16-7105-4553-ae4c-a332cc7ba968",
   "metadata": {},
   "outputs": [],
   "source": []
  },
  {
   "cell_type": "code",
   "execution_count": null,
   "id": "b898b359-d8bf-4eaa-b29d-f0060b89393a",
   "metadata": {},
   "outputs": [],
   "source": []
  }
 ],
 "metadata": {
  "kernelspec": {
   "display_name": "Python 3 (ipykernel)",
   "language": "python",
   "name": "python3"
  },
  "language_info": {
   "codemirror_mode": {
    "name": "ipython",
    "version": 3
   },
   "file_extension": ".py",
   "mimetype": "text/x-python",
   "name": "python",
   "nbconvert_exporter": "python",
   "pygments_lexer": "ipython3",
   "version": "3.12.7"
  }
 },
 "nbformat": 4,
 "nbformat_minor": 5
}
